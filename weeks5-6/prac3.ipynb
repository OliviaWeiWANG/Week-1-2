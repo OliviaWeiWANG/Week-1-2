{
 "cells": [
  {
   "cell_type": "markdown",
   "metadata": {},
   "source": [
    "# Introduction to Artificial Intelligence for Non Computing"
   ]
  },
  {
   "cell_type": "markdown",
   "metadata": {},
   "source": [
    "## Practical 3 (weeks 5 - 6)"
   ]
  },
  {
   "cell_type": "markdown",
   "metadata": {},
   "source": [
    "The following links provide additional information about data analysis , machine learning and Numpy"
   ]
  },
  {
   "cell_type": "markdown",
   "metadata": {},
   "source": [
    "Python data analysis: https://www.imooc.com/learn/843\n",
    "machine learning: https://www.imooc.com/learn/717\n",
    "Numpy :https://www.imooc.com/learn/943"
   ]
  },
  {
   "cell_type": "markdown",
   "metadata": {},
   "source": [
    "#### Theory Questions"
   ]
  },
  {
   "cell_type": "markdown",
   "metadata": {},
   "source": [
    "1\\.Which of the following are true and which are false? Give brief explanations.\n",
    "- a. In a fully observable, turn-taking, zero-sum game between two perfectly rational players,it does not help the first player to know what strategy the second player is using—that is, what move the second player will make, given the first player's move.\n",
    "- b. In a partially observable, turn-taking, zero-sum game between two perfectly rational players, it does not help the first player to know what move the second player will make, given the first player's move.\n",
    "- c. A perfectly rational backgammon agent never loses.\n",
    "\n",
    "See textbook Chapter6 24.6"
   ]
  },
  {
   "cell_type": "markdown",
   "metadata": {},
   "source": [
    "Answer:\n",
    "\n",
    "a. True. Because for a fully observable, turn-taking, zero-sum game, it ends with one winner and one loser or draw. The action of the first player will affect the second player, thus the action of second play changes and cannot be predictable stably. As a result, the first player does not need to know the strategy of the other player in the future steps. \n",
    "\n",
    "b. False.A partially observable system is not fully visible to an external sensor, which means the memory system is needed to add information to the observer's understanding of the system. Thus, the prediction is needed as additional information for the first player. Or else the information is asymmetric and only the second player gets information.\n",
    "\n",
    "c. False.To some degree the backgammon agent is based on lucks. It dependes not only on the rational actions but also the lucks for dice.\n",
    "\n",
    "***"
   ]
  },
  {
   "cell_type": "markdown",
   "metadata": {},
   "source": [
    "2\\.Define in your own words the terms constraint, backtracking search, arc consistency,backjumping, min-conflicts, and cycle cutset.\n",
    "\n",
    "See textbook Chapter6 6.16"
   ]
  },
  {
   "cell_type": "markdown",
   "metadata": {},
   "source": [
    "Answer:\n",
    "\n",
    "Constraint: a restriction that limits the variables and choices, particularly value domains of variables;\n",
    "\n",
    "Backtracking search: a basic uninformed algorithm for solving constraint satisfaction problems by depth-first search;\n",
    "\n",
    "Arc consistency: the assigned directions from the tail of one arc to the head of another without violating a constraint in a CSP, which detects failure earlier than forward checking;\n",
    "\n",
    "Backjumping: a technique in backtracking search that reduces space and increases efficiency by going more than one level in the search tree when all values for a variable have been tested;\n",
    "\n",
    "Min-conflicts: a heuristic method used to solve CSP by modifying a variable and picking the least conflict value;\n",
    "\n",
    "Cycle cutset: a set of vertices that contains at least one vertex of cycles in the graph to make it acyclic.\n",
    "\n",
    "***"
   ]
  },
  {
   "cell_type": "markdown",
   "metadata": {},
   "source": [
    "3\\.Explain why it is a good heuristic to choose the variable that is most constrained but the value that is least constraining in a CSP search.\n",
    "\n",
    "See textbook Chapter6 6.9"
   ]
  },
  {
   "cell_type": "markdown",
   "metadata": {},
   "source": [
    "Answer:\n",
    "\n",
    "Because choosing he most constrained variable means choosing a variable with the minimum remaining values; and the most constrained variable in a CSP search makes a larger possibility of early false thus it can be adjusted in time and improve the efficiency. While the least constraining value makes the most chances for failures but is inefficient.\n",
    "***"
   ]
  },
  {
   "cell_type": "markdown",
   "metadata": {},
   "source": [
    "4\\.Consider the following procedure for choosing moves in games with chance nodes: \n",
    "- 1、Generate some dice-roll sequences (say, 50) down to a suitable depth (say, 8).\n",
    "- 2、With known dice rolls, the game tree becomes deterministic. For each dice-roll sequence,solve the resulting deterministic game tree using alpha-beta.\n",
    "- 3、Use the results to estimate the value of each move and to choose the best.Will this procedure work well? Why (or why not)?\n",
    "\n",
    "See textbook Chapter5 5.19"
   ]
  },
  {
   "cell_type": "markdown",
   "metadata": {},
   "source": [
    "Answer:\n",
    "\n",
    "No, it doesn't work well. Because the uncertainty of dice rolling. The game is not only based on knowledge but also on the dice-rolling luck. Thus it is unpredictable for the results of dice rolling.\n",
    "\n",
    "***"
   ]
  },
  {
   "cell_type": "markdown",
   "metadata": {},
   "source": [
    "5\\. Now,please consider this game:  there are three plates A, B and C, each plate has three bills. A puts 1, 20, 50; B puts 5, 10, 100; C puts 1, 5, 20. All units are \"Yuan\". There are two persons A and B, and two of them can check out three plates and banknotes .（ A is ourself, The other is B）\n",
    "The game is divided into three steps: \n",
    "- 1、A select a plate from three plate.\n",
    "- 2、B take out two banknotes from A selected plate,and give the  banknotes to A.  \n",
    "- 3、A take one of the two banknotes, and take it away.among,A want to get the max banknotes, B want to let A to get the min.\n",
    "\n",
    "Try to understand the minimax algorithm，you can click the link:https://blog.csdn.net/tangchenyi/article/details/22920031"
   ]
  },
  {
   "cell_type": "markdown",
   "metadata": {},
   "source": [
    "_your answer here..._ \n",
    "\n",
    "Answer: \n",
    "\n",
    "If A takes the first plate, B will take 1 and 20 and A will take 20. If A takes the second plate, B will take 5 and 10 and A will take 10. If A takes the third plate plate, B will take 1 and 5 and A will take 5. So that A will select A plate.\n",
    "\n",
    "***"
   ]
  },
  {
   "cell_type": "markdown",
   "metadata": {},
   "source": [
    "### Programming Excercises"
   ]
  },
  {
   "cell_type": "markdown",
   "metadata": {},
   "source": [
    "1\\. Guess number(Single number): please generate a randomly number  with the function (random), then ask someone to guess the number,I think we should give the corresponding hint, otherwise it will be very difficult to guess the number.the game will be over untill you get the right number."
   ]
  },
  {
   "cell_type": "code",
   "execution_count": 2,
   "metadata": {},
   "outputs": [
    {
     "name": "stdout",
     "output_type": "stream",
     "text": [
      "hint: the range of number is between 1 and 100\n",
      "please input your guessing number: \n",
      "50\n",
      "your number is too big\n",
      "25\n",
      "your number is too big\n",
      "13\n",
      "your number is too big\n",
      "7\n",
      "your number is too small\n",
      "10\n",
      "your number is too big\n",
      "9\n",
      "congratulations!\n",
      "Guess total 6 times\n"
     ]
    }
   ],
   "source": [
    "import random\n",
    "number = random.randint(1, 100)\n",
    "print('hint: the range of number is between 1 and 100')\n",
    "\n",
    "print('please input your guessing number: ')\n",
    "\n",
    "\n",
    "def number_right(guessNumber, number):\n",
    "    if guessNumber < number:\n",
    "        print(\"your number is too small\")\n",
    "        return False\n",
    "    elif guessNumber > number:\n",
    "        print(\"your number is too big\")\n",
    "        return False\n",
    "    else:\n",
    "        print(\"congratulations!\")\n",
    "        return True\n",
    "\n",
    "guessTimes = 0\n",
    "f = False\n",
    "while f == False:\n",
    "    guessNumber = int(input())\n",
    "    f = number_right(guessNumber, number)\n",
    "    guessTimes = guessTimes + 1\n",
    "print('Guess total %d times' % (guessTimes))"
   ]
  },
  {
   "cell_type": "markdown",
   "metadata": {},
   "source": [
    "2\\.if you had understand the guess single number games,Congratulates,next is the guess three number games,Maybe you can do it well.But this is a different way of thinking. \n",
    "first : we need generate three numbers,there are most ten times chances give  you to guess the number,of course,we also give you some cue.\n",
    "\n",
    "- 'When I say:-->It means:\n",
    "- 'error--> The 3 numbers are not in the mystical numbers.'\n",
    "- 'Only the number is correct --> the number is right , but the position is not right.'\n",
    "- 'Absolutely right--> numbers is right and the position also right.'\n",
    "\n",
    "Maybe it's better for you to understand the rule well through see the picture.\n",
    "<div style=\"float:left;\" ><img src=\"img/p1.png\" width=\"400\" height=\"300\" >"
   ]
  },
  {
   "cell_type": "code",
   "execution_count": 3,
   "metadata": {},
   "outputs": [
    {
     "name": "stdout",
     "output_type": "stream",
     "text": [
      "there are 3 numbers, please Guess what it is.\n",
      "The clue I gave is:\n",
      "When I say:                   \tIt means:                                                   \n",
      "error                         \tThe 3 numbers are not in the mystical numbers               \n",
      "Only the number is correct    \tthe number is right , but the position is not right         \n",
      "Absolutely right              \tnumbers is right and the position also right                \n",
      "There are 3 numbers, you have 10 chances to guess it.\n",
      "\n",
      "This is the 1 time: \n",
      "009\n",
      "['error', 'error', 'Only the number is correct']\n",
      "This is the 2 time: \n",
      "918\n",
      "['Absolutely right', 'error', 'error']\n",
      "This is the 3 time: \n",
      "927\n",
      "['Absolutely right', 'error', 'Only the number is correct']\n",
      "This is the 4 time: \n",
      "973\n",
      "['Absolutely right', 'Absolutely right', 'error']\n",
      "This is the 5 time: \n",
      "974\n",
      "['Absolutely right', 'Absolutely right', 'error']\n",
      "This is the 6 time: \n",
      "975\n",
      "Congratulations!\n"
     ]
    }
   ],
   "source": [
    "## write your answer here!\n",
    "import random\n",
    "num = [str(random.randint(0,9)),str(random.randint(0,9)),str(random.randint(0,9))]\n",
    "result = [\"\", \"\", \"\"]\n",
    "print(\"there are 3 numbers, please Guess what it is.\")\n",
    "print(\"The clue I gave is:\")\n",
    "mat = \"{:30}\\t{:60}\"\n",
    "print(mat.format(\"When I say:\",\"It means:\"))\n",
    "print(mat.format(\"error\", \"The 3 numbers are not in the mystical numbers\"))\n",
    "print(mat.format(\"Only the number is correct\", \"the number is right , but the position is not right\"))\n",
    "print(mat.format(\"Absolutely right\", \"numbers is right and the position also right\"))\n",
    "print(\"There are 3 numbers, you have 10 chances to guess it.\")\n",
    "print()\n",
    "for i in range(1,11):\n",
    "    print(\"This is the {} time: \".format(i))\n",
    "    str = input()\n",
    "    guess = list(str)\n",
    "    if num[0] == guess[0] and num[1] == guess[1] and num[2] == guess[2]:\n",
    "        print(\"Congratulations!\")\n",
    "        break\n",
    "    else:\n",
    "        if guess[0] == num[0]:\n",
    "            result[0] = \"Absolutely right\"\n",
    "        elif guess[0] != num[0] and (guess[0] == num[1] or guess[0] == num[2]):\n",
    "            result[0] = \"Only the number is correct\"\n",
    "        elif guess[0] != num[0] and guess[0] != num[1] and guess[0] != num[2]:\n",
    "            result[0] = \"error\"\n",
    "        if guess[1] == num[1]:\n",
    "            result[1] = \"Absolutely right\"\n",
    "        elif guess[1] != num[1] and (guess[1] == num[0] or guess[1] == num[2]):\n",
    "            result[1] = \"Only the number is correct\"\n",
    "        elif guess[1] != num[0] and guess[1] != num[1] and guess[1] != num[2]:\n",
    "            result[1] = \"error\"\n",
    "        if guess[2] == num[2]:\n",
    "            result[2] = \"Absolutely right\"\n",
    "        elif guess[2] != num[2] and (guess[2] == num[0] or guess[2] == num[1]):\n",
    "            result[2] = \"Only the number is correct\"\n",
    "        elif guess[2] != num[0] and guess[0] != num[1] and guess[0] != num[2]:\n",
    "            result[2] = \"error\"\n",
    "        print(result)"
   ]
  },
  {
   "cell_type": "markdown",
   "metadata": {},
   "source": [
    "3\\.please try using Python's Tkinter to make a visual interface（GUI）.if you don't know anything.Maybe you can refer to the below interface.and implement it by code.\n",
    "\n",
    "<div style=\"float:left;\" ><img src=\"img/p2.png\" width=\"200\" height=\"200\" >"
   ]
  },
  {
   "cell_type": "code",
   "execution_count": 5,
   "metadata": {},
   "outputs": [],
   "source": [
    "## write your answer here!\n",
    "from tkinter import *\n",
    "root = Tk()\n",
    "a = ['C', 'python', 'php', 'html', 'SQL', 'java']\n",
    "b = ['CSS', 'jQuery', 'Bootstrap']\n",
    "list1 = Listbox(root)\n",
    "list2 = Listbox(root)\n",
    "for item in a:\n",
    "    list1.insert(0, item)\n",
    "for item in b:\n",
    "    list2.insert(0, item)\n",
    "list1.pack()\n",
    "list2.pack()\n",
    "root.mainloop()"
   ]
  },
  {
   "cell_type": "markdown",
   "metadata": {},
   "source": [
    "4\\.Through the initial trial of Tkinter,    please write a simple calculator.\n",
    "\n",
    "<div style=\"float:left;\" ><img src=\"img/p3.png\" width=\"180\" height=\"200\" center=\"left\"></div>\n",
    "<div style=\"float:left;\" ><img src=\"img/p4.png\" width=\"180\" height=\"200\" center=\"right\" ></div>"
   ]
  },
  {
   "cell_type": "code",
   "execution_count": 6,
   "metadata": {},
   "outputs": [],
   "source": [
    "## write your answer here!\n",
    "class Calculator:\n",
    "    import tkinter as tk\n",
    "    import tkinter.messagebox as mbox\n",
    "\n",
    "    def __init__(self):\n",
    "        self.window = self.tk.Tk()\n",
    "        self.window.title('Calculator')\n",
    "        self.window.minsize(240, 325)\n",
    "        self.window.maxsize(240, 325)\n",
    "        self.is_init_lable = False\n",
    "        self.lable_show = self.tk.Label(text='', anchor='se', font=('黑体', 30), fg='black')\n",
    "        self.lable_show.place(x=0, y=0, width=240, height=80)\n",
    "        self.set_buttons()\n",
    "        self.window.mainloop()\n",
    "\n",
    "    def set_buttons(self):\n",
    "        btn7 = self.tk.Button(text='7', bd=2, font='黑体')\n",
    "        btn7.place(x=0, y=90, width=60, height=40)\n",
    "        btn8 = self.tk.Button(text='8', bd=2, font='黑体')\n",
    "        btn8.place(x=60, y=90, width=60, height=40)\n",
    "        btn9 = self.tk.Button(text='9', bd=2, font='黑体')\n",
    "        btn9.place(x=120, y=90, width=60, height=40)\n",
    "        btn_add = self.tk.Button(text='+', bd=2, font='黑体')\n",
    "        btn_add.place(x=180, y=90, width=60, height=40)\n",
    "        btn4 = self.tk.Button(text='4', bd=2, font='黑体')\n",
    "        btn4.place(x=0, y=130, width=60, height=40)\n",
    "        btn5 = self.tk.Button(text='5', bd=2, font='黑体')\n",
    "        btn5.place(x=60, y=130, width=60, height=40)\n",
    "        btn6 = self.tk.Button(text='6', bd=2, font='黑体')\n",
    "        btn6.place(x=120, y=130, width=60, height=40)\n",
    "        btn_sub = self.tk.Button(text='-', bd=2, font='黑体')\n",
    "        btn_sub.place(x=180, y=130, width=60, height=40)\n",
    "        btn1 = self.tk.Button(text='1', bd=2, font='黑体')\n",
    "        btn1.place(x=0, y=170, width=60, height=40)\n",
    "        btn2 = self.tk.Button(text='2', bd=2, font='黑体')\n",
    "        btn2.place(x=60, y=170, width=60, height=40)\n",
    "        btn3 = self.tk.Button(text='3', bd=2, font='黑体')\n",
    "        btn3.place(x=120, y=170, width=60, height=40)\n",
    "        btn_mul = self.tk.Button(text='*', bd=2, font='黑体')\n",
    "        btn_mul.place(x=180, y=170, width=60, height=40)\n",
    "        btn0 = self.tk.Button(text='0', bd=2, font='黑体')\n",
    "        btn0.place(x=0, y=210, width=120, height=40)\n",
    "        btn_point = self.tk.Button(text='.', bd=2, font='黑体')\n",
    "        btn_point.place(x=120, y=210, width=60, height=40)\n",
    "        btn_div = self.tk.Button(text='/', bd=2, font='黑体')\n",
    "        btn_div.place(x=180, y=210, width=60, height=40)\n",
    "        btn_cancel = self.tk.Button(text='C', bd=2, font='黑体')\n",
    "        btn_cancel.place(x=0, y=250, width=60, height=40)\n",
    "        btn_ok = self.tk.Button(text='=', bd=2, font='黑体')\n",
    "        btn_ok.place(x=60, y=250, width=180, height=40)\n",
    "        btn7.bind_class('Button', '<Button-1>', self.click_button)\n",
    "\n",
    "    def click_button(self, e):\n",
    "        if self.is_init_lable:\n",
    "            self.lable_show['text'] = ''\n",
    "            self.is_init_lable = False\n",
    "        font = e.widget['text']\n",
    "        self.lable_show['text'] += font\n",
    "        try:\n",
    "            if self.lable_show['text'][-1] in ['+', '-', '*', '/'] and self.lable_show['text'][-2] in ['+', '-', '*','/']:\n",
    "                header = self.lable_show['text'][:-2]\n",
    "                footer = self.lable_show['text'][-1]\n",
    "                self.lable_show['text'] = header + footer\n",
    "        except:\n",
    "            pass\n",
    "        if e.widget['text'] == '=':\n",
    "            try:\n",
    "                res = eval(self.lable_show['text'][:-1])\n",
    "                self.lable_show['text'] = str(round(float(res), 5))\n",
    "                self.isinit = True\n",
    "            except ZeroDivisionError:\n",
    "                self.mbox.showerror(message='除法计算时！除数不能为0！')\n",
    "            except:\n",
    "                self.mbox.showerror(message='算式有误')\n",
    "        if e.widget['text'] == 'C':\n",
    "            cancel_res = self.lable_show['text'][:-2]\n",
    "            self.lable_show['text'] = cancel_res\n",
    "\n",
    "\n",
    "c = Calculator()"
   ]
  },
  {
   "cell_type": "markdown",
   "metadata": {},
   "source": [
    "5\\.Ball game:Python's pinball game, which can realize the game function of the keyboard control bottom baffle moving collision ball similar to table tennis game. \n",
    "\n",
    "<div style=\"float:left;\" ><img src=\"img/p5.png\" width=\"200\" height=\"200\" center=\"left\"></div>\n",
    "<div style=\"float:left;\" ><img src=\"img/p6.png\" width=\"200\" height=\"200\" center=\"right\" ></div>\n"
   ]
  },
  {
   "cell_type": "markdown",
   "metadata": {},
   "source": [
    "this is a step:how to install the matplotlib,you can reference this link:https://blog.csdn.net/not_give_up_/article/details/79058272\n",
    "1. Ball Class\n",
    "    draw is responsible for moving Ball\n",
    "    Collision detection, bounce, Ball detection of Paddle \n",
    "2. Paddle Class\n",
    "    draw is responsible for moving Paddle\n",
    "    Collision detection to determine whether or not to continue ,Monitor keyboard events\n",
    "3. main cycle\n",
    "    Drawing the Ball and Paddle"
   ]
  },
  {
   "cell_type": "code",
   "execution_count": null,
   "metadata": {},
   "outputs": [],
   "source": [
    "## write your answer here!\n",
    "## write your answer here!\n",
    "from tkinter import *\n",
    "import matplotlib\n",
    "matplotlib.use('Agg')\n",
    "import random\n",
    "import time\n",
    "class Ball:\n",
    "  def __init__(self, canvas, paddle, color):\n",
    "    self.canvas = canvas\n",
    "    self.paddle = paddle\n",
    "    self.id = canvas.create_oval(10, 10, 25, 25, fill=color)\n",
    "    self.canvas.move(self.id, 245, 100)\n",
    "    startx = [-3, -2, -1, 1, 2, 3]\n",
    "    random.shuffle(startx)\n",
    "    self.x = startx[0]\n",
    "    self.y = -3\n",
    "    self.canvas_height = self.canvas.winfo_height()\n",
    "    self.canvas_width = self.canvas.winfo_width()\n",
    "    self.hit_bottom = False\n",
    "  def draw(self):\n",
    "    self.canvas.move(self.id, self.x, self.y)\n",
    "    pos = self.canvas.coords(self.id)#top-left bottom-right\n",
    "    if (pos[1] <= 0 or self.hit_paddle(pos) == True):\n",
    "      self.y = -self.y\n",
    "    if (pos[0] <= 0 or pos[2] >= self.canvas_width):\n",
    "      self.x = -self.x\n",
    "    if (pos[3] >= self.canvas_height):\n",
    "      self.hit_bottom = True\n",
    "  def hit_paddle(self, pos):\n",
    "    paddle_pos = self.canvas.coords(self.paddle.id)\n",
    "    if (pos[2] >= paddle_pos[0] and pos[0] <= paddle_pos[2]):\n",
    "      if (pos[3] >= paddle_pos[1] and pos[3] <= paddle_pos[3]):\n",
    "        return True\n",
    "    return False\n",
    "class Paddle:\n",
    "  def __init__(self, canvas, color):\n",
    "    self.canvas = canvas\n",
    "    self.id = canvas.create_rectangle(0, 0, 100, 10, fill = color)\n",
    "    self.x = 0\n",
    "    self.canvas.move(self.id, 200, 300)\n",
    "    self.canvas_width = self.canvas.winfo_width()\n",
    "    self.canvas.bind_all(\"<Key-Left>\", self.turn_left)\n",
    "    self.canvas.bind_all(\"<Key-Right>\", self.turn_right)\n",
    "  def draw(self):\n",
    "    pos = self.canvas.coords(self.id)\n",
    "    if (pos[0] + self.x >= 0 and pos[2] + self.x <= self.canvas_width):\n",
    "      self.canvas.move(self.id, self.x, 0)\n",
    "    #self.x = 0\n",
    "  def turn_left(self, event):\n",
    "    self.x = -4\n",
    "  def turn_right(self, event):\n",
    "    self.x = 4\n",
    "tk = Tk()\n",
    "tk.title(\"Game\")\n",
    "tk.resizable(0, 0)#not resizable\n",
    "tk.wm_attributes(\"-topmost\", 1)#at top\n",
    "canvas = Canvas(tk, width = 500, height = 500, bd = 0, highlightthickness = 0)\n",
    "canvas.pack()\n",
    "tk.update()#init\n",
    "paddle = Paddle(canvas, 'blue')\n",
    "ball = Ball(canvas, paddle, 'red')\n",
    "while 1:\n",
    "  if (ball.hit_bottom == False):\n",
    "    ball.draw()\n",
    "    paddle.draw()\n",
    "tk.update_idletasks()\n",
    "tk.update()\n",
    "time.sleep(0.01)"
   ]
  }
 ],
 "metadata": {
  "kernelspec": {
   "display_name": "Python 3",
   "language": "python",
   "name": "python3"
  },
  "language_info": {
   "codemirror_mode": {
    "name": "ipython",
    "version": 3
   },
   "file_extension": ".py",
   "mimetype": "text/x-python",
   "name": "python",
   "nbconvert_exporter": "python",
   "pygments_lexer": "ipython3",
   "version": "3.6.5"
  }
 },
 "nbformat": 4,
 "nbformat_minor": 2
}
